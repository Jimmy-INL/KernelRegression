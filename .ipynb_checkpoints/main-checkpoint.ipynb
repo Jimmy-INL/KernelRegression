{
 "cells": [
  {
   "cell_type": "markdown",
   "metadata": {},
   "source": [
    "# Kernel Regression (with Gradient Descent Method)\n",
    "\n",
    "---\n",
    "\n",
    "カーネル回帰+勾配降下法のコード．numpy only."
   ]
  },
  {
   "cell_type": "markdown",
   "metadata": {},
   "source": [
    "$n$ 個のデータサンプル $\\mathcal{D} = \\left\\{ x^{(i)}, y^{(i)} \\right\\} \\, (i=1, \\cdots n)$ から，関数 $y = f(x)$を近似する．回帰モデルはカーネル関数$k$とパラメータ${\\alpha}_i \\, (i=1 \\cdots n)$を用いて以下の式で表される．"
   ]
  },
  {
   "cell_type": "markdown",
   "metadata": {},
   "source": [
    "$$\n",
    "     \\hat{y}^{(i)} = \\sum_{j=1}^{n} \\alpha_j k(x^{(i)}, x^{(j)}) \\,\\,\\, i=1 \\cdots n\n",
    "$$"
   ]
  },
  {
   "cell_type": "markdown",
   "metadata": {},
   "source": [
    "推定値$\\hat{y}^{(i)}$と真値$y^{(i)}$の間の距離を残差(residual)として計算する．データサンプルにモデルをfitさせて，残差の合計(あるいは平均)をモデルの損失関数として導出し，最適なパラメータ${\\alpha}_i \\, (i=1 \\cdots n)$ を求める．"
   ]
  },
  {
   "cell_type": "markdown",
   "metadata": {},
   "source": [
    "$$\n",
    "\\begin{align}\n",
    "    residual(y^{(i)}, \\hat{y}^{(i)}) &= y^{(i)} - \\hat{y}^{(i)} \\\\\n",
    "    &= y^{(i)} - \\sum_{j=1}^{n} \\alpha_j k(x^{(i)}, x^{(j)})\n",
    "\\end{align}\n",
    "$$\n",
    "\n",
    "\n",
    "\n",
    "$$\n",
    "\\begin{align}\n",
    "    L(\\alpha) &= \\frac{1}{n} \\sum_{i=1}^{n} {residual(y^{(i)}, \\hat{y}^{(i)}) }^{2} \\\\\n",
    "    &= \\frac{1}{n} \\sum_{i=1}^{n} {\\left( y^{(i)} - \\sum_{j=1}^{n} \\alpha_j k(x^{(i)}, x^{(j)}) \\right)}^{2} \\\\\n",
    "    &= {({\\bf y} - {\\bf K} {\\bf \\alpha})}^{\\mathrm{T}} ({\\bf y} - {\\bf K} {\\bf \\alpha}) \\\\\n",
    "\\end{align}\n",
    "$$"
   ]
  },
  {
   "cell_type": "markdown",
   "metadata": {},
   "source": [
    "$$\n",
    "    where, \\,\\,\\, {\\bf K} = \n",
    "    \\begin{pmatrix}\n",
    "        k(x^{(1)}, x^{(1)})  & \\cdots & k(x^{(1)}, x^{(n)}) \\\\\n",
    "        \\vdots & \\ddots & \\vdots \\\\\n",
    "        k(x^{(n)}, x^{(1)})  & \\cdots & k(x^{(n)}, x^{(n)})\n",
    "    \\end{pmatrix}\n",
    "$$"
   ]
  },
  {
   "cell_type": "markdown",
   "metadata": {},
   "source": [
    "パラメータ${\\alpha}_i  \\, (i=1 \\cdots n)$ の探索には，ナイーブな勾配降下法を使う．係数 $\\eta$ は学習率.\n",
    "\n",
    "$$\n",
    "    \\frac{\\partial L(\\alpha)}{\\partial {\\bf \\alpha}} = -2 \\cdot {\\bf K}^{\\mathrm{T}} ({\\bf y} - {\\bf K} {\\bf \\alpha}), \\\\\n",
    "    \\alpha_{new} = \\alpha_{old} + \\eta \\cdot \\frac{\\partial L(\\alpha_{old})}{\\partial {\\bf \\alpha}}\n",
    "$$"
   ]
  },
  {
   "cell_type": "code",
   "execution_count": 1,
   "metadata": {},
   "outputs": [],
   "source": [
    "import numpy as np\n",
    "import matplotlib.pyplot as plt\n",
    "%matplotlib inline"
   ]
  },
  {
   "cell_type": "markdown",
   "metadata": {},
   "source": [
    "## Kernel Function"
   ]
  },
  {
   "cell_type": "code",
   "execution_count": 2,
   "metadata": {},
   "outputs": [],
   "source": [
    "class RBFkernel():\n",
    "    def __init__(self, sigma=0.5):\n",
    "        self.sigma = sigma\n",
    "        \n",
    "    def __call__(self, x, y):\n",
    "        numerator = -1 * np.sum((x - y)**2)\n",
    "        denominator = 2 * (self.sigma**2)\n",
    "        return np.exp(numerator / denominator)\n",
    "    \n",
    "    def get_params(self):\n",
    "        return self.sigma\n",
    "    \n",
    "    def set_params(self, sigma):\n",
    "        self.sigma = sigma"
   ]
  },
  {
   "cell_type": "markdown",
   "metadata": {},
   "source": [
    "## Regression Model"
   ]
  },
  {
   "cell_type": "code",
   "execution_count": 3,
   "metadata": {},
   "outputs": [],
   "source": [
    "class KernelRegression():\n",
    "    def __init__(self, kernel):\n",
    "        self.kernel = kernel\n",
    "        \n",
    "    def fit_kernel(self, X, y, lr=0.01, nb_epoch=1000, log_freq=50):\n",
    "        self.X = X\n",
    "        self.y = y\n",
    "        self.n = X.shape[0] # sample size\n",
    "        self.alpha = np.full(self.n, 1) # param alpha: initialize\n",
    "        self.gram_matrix = np.zeros((self.n, self.n))\n",
    "        \n",
    "        # Gradient Descent Algorithm to optimize alpha\n",
    "        for epoch in range(nb_epoch):\n",
    "            \n",
    "            # Gram Matrix\n",
    "            for i in range(self.n):\n",
    "                for j in range(self.n):\n",
    "                    self.gram_matrix[i][j] = self.kernel(self.X[i], self.X[j])\n",
    "                    self.loss, self.loss_grad = self.mse(self.X, self.y, self.alpha, self.gram_matrix)\n",
    "                    self.alpha = self.alpha - lr * self.loss_grad\n",
    "                    \n",
    "            if epoch % log_freq == 0:\n",
    "                print(\"epoch: {} \\t MSE of sample data: {:.4f}\".format(epoch, self.loss))\n",
    "                        \n",
    "                        \n",
    "    def mse(self, X, y, alpha, gram_matrix):\n",
    "        loss = np.dot((y - np.dot(gram_matrix, alpha)), (y - np.dot(gram_matrix, alpha)))\n",
    "        loss_grad = -2 * np.dot(gram_matrix.T, (y - np.dot(gram_matrix, alpha)))\n",
    "        return loss, loss_grad\n",
    "    \n",
    "    def predict(self, X_new):\n",
    "        n_new = X_new.shape[0]\n",
    "        y_new = np.zeros(n_new)\n",
    "        for i in range(n_new):\n",
    "            for j in range(self.n):\n",
    "                y_new[i] += self.alpha[j] * self.kernel(X_new[i], self.X[j])\n",
    "        return y_new"
   ]
  },
  {
   "cell_type": "markdown",
   "metadata": {},
   "source": [
    "# Experiment"
   ]
  },
  {
   "cell_type": "code",
   "execution_count": 4,
   "metadata": {},
   "outputs": [],
   "source": [
    "def actual_function(x):\n",
    "    return 1.7 * np.sin(2 * x) + np.cos(1.5 * x) + 0.5 * np.cos(0.5 * x) + 0.5 * x  + 0.1"
   ]
  },
  {
   "cell_type": "code",
   "execution_count": 5,
   "metadata": {},
   "outputs": [],
   "source": [
    "sample_size = 100 # the number of data sample\n",
    "var_noise = 0.7 # variance of the gaussian noise for samples"
   ]
  },
  {
   "cell_type": "code",
   "execution_count": 6,
   "metadata": {},
   "outputs": [],
   "source": [
    "# make data sample\n",
    "x_sample = np.random.rand(sample_size) * 10 - 5\n",
    "y_sample = actual_function(x_sample) + np.random.normal(0, var_noise, sample_size)\n",
    "\n",
    "# variables for plot (actual function)\n",
    "x_plot = np.linspace(-5, 5, 100)\n",
    "y_plot = actual_function(x_plot)"
   ]
  },
  {
   "cell_type": "code",
   "execution_count": 7,
   "metadata": {},
   "outputs": [
    {
     "data": {
      "image/png": "[encoded data removed]",
      "text/plain": [
       "<Figure size 432x288 with 1 Axes>"
      ]
     },
     "metadata": {
      "needs_background": "light"
     },
     "output_type": "display_data"
    }
   ],
   "source": [
    "# plot figure\n",
    "plt.plot(x_plot, y_plot, color=\"blue\", linestyle=\"dotted\", label=\"actual function\")\n",
    "plt.scatter(x_sample, y_sample, alpha=0.4, color=\"blue\", label=\"data sample\")\n",
    "plt.title(\"Actual function & Data sample (N={})\".format(sample_size))\n",
    "plt.legend(loc=\"upper left\")\n",
    "plt.xlabel(\"x\")\n",
    "plt.ylabel(\"y\")\n",
    "plt.show()"
   ]
  },
  {
   "cell_type": "markdown",
   "metadata": {},
   "source": [
    "#### Kernel regression"
   ]
  },
  {
   "cell_type": "code",
   "execution_count": 8,
   "metadata": {},
   "outputs": [],
   "source": [
    "# set kernel\n",
    "sigma=0.2\n",
    "kernel = RBFkernel(sigma=sigma)\n",
    "\n",
    "# generate model\n",
    "model = KernelRegression(kernel)"
   ]
  },
  {
   "cell_type": "code",
   "execution_count": 9,
   "metadata": {},
   "outputs": [
    {
     "name": "stdout",
     "output_type": "stream",
     "text": [
      "epoch: 0 \t MSE of sample data: 35.2988\n",
      "epoch: 100 \t MSE of sample data: 30.3570\n",
      "epoch: 200 \t MSE of sample data: 29.4241\n",
      "epoch: 300 \t MSE of sample data: 28.8972\n",
      "epoch: 400 \t MSE of sample data: 28.5597\n",
      "epoch: 500 \t MSE of sample data: 28.3322\n",
      "epoch: 600 \t MSE of sample data: 28.1736\n",
      "epoch: 700 \t MSE of sample data: 28.0598\n",
      "epoch: 800 \t MSE of sample data: 27.9759\n",
      "epoch: 900 \t MSE of sample data: 27.9122\n"
     ]
    }
   ],
   "source": [
    "# fit data sample for the model\n",
    "model.fit_kernel(x_sample, y_sample, lr=0.01, nb_epoch=1000, log_freq=100)"
   ]
  },
  {
   "cell_type": "code",
   "execution_count": 10,
   "metadata": {},
   "outputs": [
    {
     "data": {
      "text/plain": [
       "array([[1.00000000e+000, 2.87684120e-018, 3.97838972e-058, ...,\n",
       "        2.30742323e-030, 9.95206887e-105, 3.54336976e-010],\n",
       "       [2.87684120e-018, 1.00000000e+000, 3.31775140e-012, ...,\n",
       "        2.64878396e-002, 1.07884798e-207, 5.74040447e-002],\n",
       "       [3.97838972e-058, 3.31775140e-012, 1.00000000e+000, ...,\n",
       "        2.83923776e-005, 1.17301456e-316, 5.38187982e-021],\n",
       "       ...,\n",
       "       [2.30742323e-030, 2.64878396e-002, 2.83923776e-005, ...,\n",
       "        1.00000000e+000, 2.10945843e-245, 2.42141051e-006],\n",
       "       [9.95206887e-105, 1.07884798e-207, 1.17301456e-316, ...,\n",
       "        2.10945843e-245, 1.00000000e+000, 7.00620399e-177],\n",
       "       [3.54336976e-010, 5.74040447e-002, 5.38187982e-021, ...,\n",
       "        2.42141051e-006, 7.00620399e-177, 1.00000000e+000]])"
      ]
     },
     "execution_count": 10,
     "metadata": {},
     "output_type": "execute_result"
    }
   ],
   "source": [
    "# check Gram Matrix of the model\n",
    "model.gram_matrix"
   ]
  },
  {
   "cell_type": "code",
   "execution_count": 11,
   "metadata": {},
   "outputs": [
    {
     "data": {
      "text/plain": [
       "27.86291541948181"
      ]
     },
     "execution_count": 11,
     "metadata": {},
     "output_type": "execute_result"
    }
   ],
   "source": [
    "# check loss\n",
    "model.loss"
   ]
  },
  {
   "cell_type": "code",
   "execution_count": 12,
   "metadata": {},
   "outputs": [],
   "source": [
    "# array for plot (predicted function)\n",
    "x_new = np.linspace(-5, 5, 100)\n",
    "y_new = model.predict(x_new)"
   ]
  },
  {
   "cell_type": "code",
   "execution_count": 13,
   "metadata": {},
   "outputs": [
    {
     "data": {
      "image/png": "[encoded data removed]",
      "text/plain": [
       "<Figure size 432x288 with 1 Axes>"
      ]
     },
     "metadata": {
      "needs_background": "light"
     },
     "output_type": "display_data"
    }
   ],
   "source": [
    "# plot result\n",
    "plt.plot(x_plot, y_plot, color=\"blue\", linestyle=\"dotted\", label=\"actual function\")\n",
    "plt.scatter(x_sample, y_sample, alpha=0.3, color=\"blue\", label=\"data sample\")\n",
    "plt.plot(x_new, y_new, color=\"red\", label=\"predicted function\")\n",
    "plt.title(\"Kernel Regression \\n RBF kernel (sigma={}), sample size ={}\".format(sigma, sample_size))\n",
    "plt.legend(loc=\"upper left\")\n",
    "plt.xlabel(\"x\")\n",
    "plt.ylabel(\"y\")\n",
    "plt.show()"
   ]
  }
 ],
 "metadata": {
  "kernelspec": {
   "display_name": "Python 3",
   "language": "python",
   "name": "python3"
  },
  "language_info": {
   "codemirror_mode": {
    "name": "ipython",
    "version": 3
   },
   "file_extension": ".py",
   "mimetype": "text/x-python",
   "name": "python",
   "nbconvert_exporter": "python",
   "pygments_lexer": "ipython3",
   "version": "3.5.2"
  }
 },
 "nbformat": 4,
 "nbformat_minor": 2
}
